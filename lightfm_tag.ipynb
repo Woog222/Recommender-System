{
  "nbformat": 4,
  "nbformat_minor": 0,
  "metadata": {
    "colab": {
      "provenance": [],
      "collapsed_sections": [
        "QlBynnjuZthc"
      ]
    },
    "kernelspec": {
      "name": "python3",
      "display_name": "Python 3"
    },
    "language_info": {
      "name": "python"
    }
  },
  "cells": [
    {
      "cell_type": "markdown",
      "source": [
        "# JeWook"
      ],
      "metadata": {
        "id": "7EKygKp_vN42"
      }
    },
    {
      "cell_type": "markdown",
      "source": [
        "## Import"
      ],
      "metadata": {
        "id": "bzSB2vTBQakB"
      }
    },
    {
      "cell_type": "code",
      "execution_count": null,
      "metadata": {
        "colab": {
          "base_uri": "https://localhost:8080/"
        },
        "id": "G40K7tVgP06-",
        "outputId": "24a96ba7-bbc5-4a2e-dff0-074f178c2d3a"
      },
      "outputs": [
        {
          "output_type": "stream",
          "name": "stdout",
          "text": [
            "Drive already mounted at /content/drive; to attempt to forcibly remount, call drive.mount(\"/content/drive\", force_remount=True).\n"
          ]
        }
      ],
      "source": [
        "from google.colab import drive\n",
        "drive.mount('/content/drive')"
      ]
    },
    {
      "cell_type": "code",
      "source": [
        "!pip install lightfm\n",
        "!pip install scrapbook\n",
        "!pip install recommenders"
      ],
      "metadata": {
        "id": "wqZsmph9XsuF"
      },
      "execution_count": null,
      "outputs": []
    },
    {
      "cell_type": "code",
      "source": [
        "import sys\n",
        "import os\n",
        "\n",
        "import itertools\n",
        "import pandas as pd\n",
        "import numpy as np\n",
        "import matplotlib.pyplot as plt\n",
        "import seaborn as sns\n",
        "import scrapbook as sb\n",
        "\n",
        "import lightfm\n",
        "from lightfm import LightFM\n",
        "from lightfm.data import Dataset\n",
        "from lightfm import cross_validation\n",
        "\n",
        "# Import LightFM's evaluation metrics\n",
        "from lightfm.evaluation import precision_at_k as lightfm_prec_at_k\n",
        "from lightfm.evaluation import recall_at_k as lightfm_recall_at_k\n",
        "from lightfm.evaluation import auc_score\n",
        "\n",
        "# Import repo's evaluation metrics\n",
        "from recommenders.evaluation.python_evaluation import precision_at_k, recall_at_k\n",
        "\n",
        "from recommenders.utils.timer import Timer\n",
        "from recommenders.datasets import movielens\n",
        "from recommenders.models.lightfm.lightfm_utils import (\n",
        "    track_model_metrics, prepare_test_df, prepare_all_predictions,\n",
        "    compare_metric, similar_users, similar_items)\n",
        "\n",
        "print(\"System version: {}\".format(sys.version))\n",
        "print(\"LightFM version: {}\".format(lightfm.__version__))\n"
      ],
      "metadata": {
        "colab": {
          "base_uri": "https://localhost:8080/"
        },
        "id": "0JkVuXK4QSB7",
        "outputId": "9e5176ef-49b3-43d5-c23d-d6091a725b77"
      },
      "execution_count": null,
      "outputs": [
        {
          "output_type": "stream",
          "name": "stdout",
          "text": [
            "System version: 3.7.15 (default, Oct 12 2022, 19:14:55) \n",
            "[GCC 7.5.0]\n",
            "LightFM version: 1.16\n"
          ]
        }
      ]
    },
    {
      "cell_type": "code",
      "source": [
        "dir = \"/content/drive/MyDrive/GH x RippleAI/Dataset/movielens/fastcampus-movielens\"\n",
        "\n",
        "df = pd.read_csv(os.path.join(dir, \"all.csv\"))\n",
        "df = df[df['tag_0'].notnull()]\n",
        "\n",
        "movies_df = pd.read_csv(os.path.join(dir, \"movies.csv\"))\n",
        "ratings_df = pd.read_csv(os.path.join(dir, \"ratings.csv\"))\n",
        "tags_df = pd.read_csv(os.path.join(dir, \"tags.csv\"))\n",
        "\n",
        "df = df.merge(movies_df[['movieId', 'title']], how='inner', on = 'movieId')\n",
        "movies_df.columns= ['itemID', 'item_label', 'genres']\n",
        "\n",
        "print(movies_df.columns)\n",
        "print(ratings_df.columns)\n",
        "print(tags_df.columns)"
      ],
      "metadata": {
        "colab": {
          "base_uri": "https://localhost:8080/"
        },
        "id": "_g8XW8mJQOur",
        "outputId": "d77e8b5f-90d0-4506-fc4f-50f1484b5250"
      },
      "execution_count": null,
      "outputs": [
        {
          "output_type": "stream",
          "name": "stdout",
          "text": [
            "Index(['itemID', 'item_label', 'genres'], dtype='object')\n",
            "Index(['userId', 'movieId', 'rating', 'timestamp'], dtype='object')\n",
            "Index(['userId', 'movieId', 'tag', 'timestamp'], dtype='object')\n"
          ]
        }
      ]
    },
    {
      "cell_type": "code",
      "source": [
        "df.shape"
      ],
      "metadata": {
        "colab": {
          "base_uri": "https://localhost:8080/"
        },
        "id": "jbOfe3M5QZxR",
        "outputId": "fd974649-9926-460c-dbcd-f62c4e9fe6db"
      },
      "execution_count": null,
      "outputs": [
        {
          "output_type": "execute_result",
          "data": {
            "text/plain": [
              "(47318, 312)"
            ]
          },
          "metadata": {},
          "execution_count": 121
        }
      ]
    },
    {
      "cell_type": "code",
      "source": [
        "df.head()"
      ],
      "metadata": {
        "colab": {
          "base_uri": "https://localhost:8080/",
          "height": 907
        },
        "id": "x_ddyOYMQOyn",
        "outputId": "879cdb2a-b97e-4106-a3c8-5d6f1caad910"
      },
      "execution_count": null,
      "outputs": [
        {
          "output_type": "execute_result",
          "data": {
            "text/plain": [
              "   userId  movieId  rating   timestamp  user_total_watch  movie_total_watch  \\\n",
              "0       1     1210     5.0   964980499               232                196   \n",
              "1       7     1210     4.0  1106635965               152                196   \n",
              "2      11     1210     4.0   902154266                64                196   \n",
              "3      15     1210     5.0  1510572653               135                196   \n",
              "4      17     1210     5.0  1305696490               105                196   \n",
              "\n",
              "   user_nth_watch  user_rating_mean  movie_rating_mean  user_rating_std  ...  \\\n",
              "0               2          4.366379           4.137755         0.800048  ...   \n",
              "1              45          3.230263           4.137755         1.329594  ...   \n",
              "2              12          3.781250           4.137755         0.933822  ...   \n",
              "3              84          3.448148           4.137755         1.133404  ...   \n",
              "4              28          4.209524           4.137755         0.508490  ...   \n",
              "\n",
              "    tag_291   tag_292  tag_293   tag_294   tag_295   tag_296   tag_297  \\\n",
              "0  0.047567 -0.124491  -0.0059 -0.006938 -0.083903 -0.005452  0.004089   \n",
              "1  0.047567 -0.124491  -0.0059 -0.006938 -0.083903 -0.005452  0.004089   \n",
              "2  0.047567 -0.124491  -0.0059 -0.006938 -0.083903 -0.005452  0.004089   \n",
              "3  0.047567 -0.124491  -0.0059 -0.006938 -0.083903 -0.005452  0.004089   \n",
              "4  0.047567 -0.124491  -0.0059 -0.006938 -0.083903 -0.005452  0.004089   \n",
              "\n",
              "    tag_298   tag_299                                              title  \n",
              "0 -0.007629  0.081299  Star Wars: Episode VI - Return of the Jedi (1983)  \n",
              "1 -0.007629  0.081299  Star Wars: Episode VI - Return of the Jedi (1983)  \n",
              "2 -0.007629  0.081299  Star Wars: Episode VI - Return of the Jedi (1983)  \n",
              "3 -0.007629  0.081299  Star Wars: Episode VI - Return of the Jedi (1983)  \n",
              "4 -0.007629  0.081299  Star Wars: Episode VI - Return of the Jedi (1983)  \n",
              "\n",
              "[5 rows x 312 columns]"
            ],
            "text/html": [
              "\n",
              "  <div id=\"df-9d56275c-88f2-424f-b988-5695912042db\">\n",
              "    <div class=\"colab-df-container\">\n",
              "      <div>\n",
              "<style scoped>\n",
              "    .dataframe tbody tr th:only-of-type {\n",
              "        vertical-align: middle;\n",
              "    }\n",
              "\n",
              "    .dataframe tbody tr th {\n",
              "        vertical-align: top;\n",
              "    }\n",
              "\n",
              "    .dataframe thead th {\n",
              "        text-align: right;\n",
              "    }\n",
              "</style>\n",
              "<table border=\"1\" class=\"dataframe\">\n",
              "  <thead>\n",
              "    <tr style=\"text-align: right;\">\n",
              "      <th></th>\n",
              "      <th>userId</th>\n",
              "      <th>movieId</th>\n",
              "      <th>rating</th>\n",
              "      <th>timestamp</th>\n",
              "      <th>user_total_watch</th>\n",
              "      <th>movie_total_watch</th>\n",
              "      <th>user_nth_watch</th>\n",
              "      <th>user_rating_mean</th>\n",
              "      <th>movie_rating_mean</th>\n",
              "      <th>user_rating_std</th>\n",
              "      <th>...</th>\n",
              "      <th>tag_291</th>\n",
              "      <th>tag_292</th>\n",
              "      <th>tag_293</th>\n",
              "      <th>tag_294</th>\n",
              "      <th>tag_295</th>\n",
              "      <th>tag_296</th>\n",
              "      <th>tag_297</th>\n",
              "      <th>tag_298</th>\n",
              "      <th>tag_299</th>\n",
              "      <th>title</th>\n",
              "    </tr>\n",
              "  </thead>\n",
              "  <tbody>\n",
              "    <tr>\n",
              "      <th>0</th>\n",
              "      <td>1</td>\n",
              "      <td>1210</td>\n",
              "      <td>5.0</td>\n",
              "      <td>964980499</td>\n",
              "      <td>232</td>\n",
              "      <td>196</td>\n",
              "      <td>2</td>\n",
              "      <td>4.366379</td>\n",
              "      <td>4.137755</td>\n",
              "      <td>0.800048</td>\n",
              "      <td>...</td>\n",
              "      <td>0.047567</td>\n",
              "      <td>-0.124491</td>\n",
              "      <td>-0.0059</td>\n",
              "      <td>-0.006938</td>\n",
              "      <td>-0.083903</td>\n",
              "      <td>-0.005452</td>\n",
              "      <td>0.004089</td>\n",
              "      <td>-0.007629</td>\n",
              "      <td>0.081299</td>\n",
              "      <td>Star Wars: Episode VI - Return of the Jedi (1983)</td>\n",
              "    </tr>\n",
              "    <tr>\n",
              "      <th>1</th>\n",
              "      <td>7</td>\n",
              "      <td>1210</td>\n",
              "      <td>4.0</td>\n",
              "      <td>1106635965</td>\n",
              "      <td>152</td>\n",
              "      <td>196</td>\n",
              "      <td>45</td>\n",
              "      <td>3.230263</td>\n",
              "      <td>4.137755</td>\n",
              "      <td>1.329594</td>\n",
              "      <td>...</td>\n",
              "      <td>0.047567</td>\n",
              "      <td>-0.124491</td>\n",
              "      <td>-0.0059</td>\n",
              "      <td>-0.006938</td>\n",
              "      <td>-0.083903</td>\n",
              "      <td>-0.005452</td>\n",
              "      <td>0.004089</td>\n",
              "      <td>-0.007629</td>\n",
              "      <td>0.081299</td>\n",
              "      <td>Star Wars: Episode VI - Return of the Jedi (1983)</td>\n",
              "    </tr>\n",
              "    <tr>\n",
              "      <th>2</th>\n",
              "      <td>11</td>\n",
              "      <td>1210</td>\n",
              "      <td>4.0</td>\n",
              "      <td>902154266</td>\n",
              "      <td>64</td>\n",
              "      <td>196</td>\n",
              "      <td>12</td>\n",
              "      <td>3.781250</td>\n",
              "      <td>4.137755</td>\n",
              "      <td>0.933822</td>\n",
              "      <td>...</td>\n",
              "      <td>0.047567</td>\n",
              "      <td>-0.124491</td>\n",
              "      <td>-0.0059</td>\n",
              "      <td>-0.006938</td>\n",
              "      <td>-0.083903</td>\n",
              "      <td>-0.005452</td>\n",
              "      <td>0.004089</td>\n",
              "      <td>-0.007629</td>\n",
              "      <td>0.081299</td>\n",
              "      <td>Star Wars: Episode VI - Return of the Jedi (1983)</td>\n",
              "    </tr>\n",
              "    <tr>\n",
              "      <th>3</th>\n",
              "      <td>15</td>\n",
              "      <td>1210</td>\n",
              "      <td>5.0</td>\n",
              "      <td>1510572653</td>\n",
              "      <td>135</td>\n",
              "      <td>196</td>\n",
              "      <td>84</td>\n",
              "      <td>3.448148</td>\n",
              "      <td>4.137755</td>\n",
              "      <td>1.133404</td>\n",
              "      <td>...</td>\n",
              "      <td>0.047567</td>\n",
              "      <td>-0.124491</td>\n",
              "      <td>-0.0059</td>\n",
              "      <td>-0.006938</td>\n",
              "      <td>-0.083903</td>\n",
              "      <td>-0.005452</td>\n",
              "      <td>0.004089</td>\n",
              "      <td>-0.007629</td>\n",
              "      <td>0.081299</td>\n",
              "      <td>Star Wars: Episode VI - Return of the Jedi (1983)</td>\n",
              "    </tr>\n",
              "    <tr>\n",
              "      <th>4</th>\n",
              "      <td>17</td>\n",
              "      <td>1210</td>\n",
              "      <td>5.0</td>\n",
              "      <td>1305696490</td>\n",
              "      <td>105</td>\n",
              "      <td>196</td>\n",
              "      <td>28</td>\n",
              "      <td>4.209524</td>\n",
              "      <td>4.137755</td>\n",
              "      <td>0.508490</td>\n",
              "      <td>...</td>\n",
              "      <td>0.047567</td>\n",
              "      <td>-0.124491</td>\n",
              "      <td>-0.0059</td>\n",
              "      <td>-0.006938</td>\n",
              "      <td>-0.083903</td>\n",
              "      <td>-0.005452</td>\n",
              "      <td>0.004089</td>\n",
              "      <td>-0.007629</td>\n",
              "      <td>0.081299</td>\n",
              "      <td>Star Wars: Episode VI - Return of the Jedi (1983)</td>\n",
              "    </tr>\n",
              "  </tbody>\n",
              "</table>\n",
              "<p>5 rows × 312 columns</p>\n",
              "</div>\n",
              "      <button class=\"colab-df-convert\" onclick=\"convertToInteractive('df-9d56275c-88f2-424f-b988-5695912042db')\"\n",
              "              title=\"Convert this dataframe to an interactive table.\"\n",
              "              style=\"display:none;\">\n",
              "        \n",
              "  <svg xmlns=\"http://www.w3.org/2000/svg\" height=\"24px\"viewBox=\"0 0 24 24\"\n",
              "       width=\"24px\">\n",
              "    <path d=\"M0 0h24v24H0V0z\" fill=\"none\"/>\n",
              "    <path d=\"M18.56 5.44l.94 2.06.94-2.06 2.06-.94-2.06-.94-.94-2.06-.94 2.06-2.06.94zm-11 1L8.5 8.5l.94-2.06 2.06-.94-2.06-.94L8.5 2.5l-.94 2.06-2.06.94zm10 10l.94 2.06.94-2.06 2.06-.94-2.06-.94-.94-2.06-.94 2.06-2.06.94z\"/><path d=\"M17.41 7.96l-1.37-1.37c-.4-.4-.92-.59-1.43-.59-.52 0-1.04.2-1.43.59L10.3 9.45l-7.72 7.72c-.78.78-.78 2.05 0 2.83L4 21.41c.39.39.9.59 1.41.59.51 0 1.02-.2 1.41-.59l7.78-7.78 2.81-2.81c.8-.78.8-2.07 0-2.86zM5.41 20L4 18.59l7.72-7.72 1.47 1.35L5.41 20z\"/>\n",
              "  </svg>\n",
              "      </button>\n",
              "      \n",
              "  <style>\n",
              "    .colab-df-container {\n",
              "      display:flex;\n",
              "      flex-wrap:wrap;\n",
              "      gap: 12px;\n",
              "    }\n",
              "\n",
              "    .colab-df-convert {\n",
              "      background-color: #E8F0FE;\n",
              "      border: none;\n",
              "      border-radius: 50%;\n",
              "      cursor: pointer;\n",
              "      display: none;\n",
              "      fill: #1967D2;\n",
              "      height: 32px;\n",
              "      padding: 0 0 0 0;\n",
              "      width: 32px;\n",
              "    }\n",
              "\n",
              "    .colab-df-convert:hover {\n",
              "      background-color: #E2EBFA;\n",
              "      box-shadow: 0px 1px 2px rgba(60, 64, 67, 0.3), 0px 1px 3px 1px rgba(60, 64, 67, 0.15);\n",
              "      fill: #174EA6;\n",
              "    }\n",
              "\n",
              "    [theme=dark] .colab-df-convert {\n",
              "      background-color: #3B4455;\n",
              "      fill: #D2E3FC;\n",
              "    }\n",
              "\n",
              "    [theme=dark] .colab-df-convert:hover {\n",
              "      background-color: #434B5C;\n",
              "      box-shadow: 0px 1px 3px 1px rgba(0, 0, 0, 0.15);\n",
              "      filter: drop-shadow(0px 1px 2px rgba(0, 0, 0, 0.3));\n",
              "      fill: #FFFFFF;\n",
              "    }\n",
              "  </style>\n",
              "\n",
              "      <script>\n",
              "        const buttonEl =\n",
              "          document.querySelector('#df-9d56275c-88f2-424f-b988-5695912042db button.colab-df-convert');\n",
              "        buttonEl.style.display =\n",
              "          google.colab.kernel.accessAllowed ? 'block' : 'none';\n",
              "\n",
              "        async function convertToInteractive(key) {\n",
              "          const element = document.querySelector('#df-9d56275c-88f2-424f-b988-5695912042db');\n",
              "          const dataTable =\n",
              "            await google.colab.kernel.invokeFunction('convertToInteractive',\n",
              "                                                     [key], {});\n",
              "          if (!dataTable) return;\n",
              "\n",
              "          const docLinkHtml = 'Like what you see? Visit the ' +\n",
              "            '<a target=\"_blank\" href=https://colab.research.google.com/notebooks/data_table.ipynb>data table notebook</a>'\n",
              "            + ' to learn more about interactive tables.';\n",
              "          element.innerHTML = '';\n",
              "          dataTable['output_type'] = 'display_data';\n",
              "          await google.colab.output.renderOutput(dataTable, element);\n",
              "          const docLink = document.createElement('div');\n",
              "          docLink.innerHTML = docLinkHtml;\n",
              "          element.appendChild(docLink);\n",
              "        }\n",
              "      </script>\n",
              "    </div>\n",
              "  </div>\n",
              "  "
            ]
          },
          "metadata": {},
          "execution_count": 122
        }
      ]
    },
    {
      "cell_type": "markdown",
      "source": [
        "## Hyper Parameters"
      ],
      "metadata": {
        "id": "QlBynnjuZthc"
      }
    },
    {
      "cell_type": "code",
      "source": [
        "# Select MovieLens data size\n",
        "TAG_COL = 11\n",
        "\n",
        "# default number of recommendations\n",
        "K = 10\n",
        "# percentage of data used for testing\n",
        "TEST_PERCENTAGE = 0.25\n",
        "# model learning rate\n",
        "LEARNING_RATE = 0.25\n",
        "# no of latent factors\n",
        "NO_COMPONENTS = 20\n",
        "# no of epochs to fit model\n",
        "NO_EPOCHS = 20\n",
        "# no of threads to fit model\n",
        "NO_THREADS = 32\n",
        "# regularisation for both user and item features\n",
        "ITEM_ALPHA = 1e-6\n",
        "USER_ALPHA = 1e-6\n",
        "\n",
        "# seed for pseudonumber generations\n",
        "SEED = 42"
      ],
      "metadata": {
        "id": "mvOoM1WBZpaO"
      },
      "execution_count": null,
      "outputs": []
    },
    {
      "cell_type": "markdown",
      "source": [
        "## PreProcessing"
      ],
      "metadata": {
        "id": "ldmEdbWpZyPa"
      }
    },
    {
      "cell_type": "code",
      "source": [
        "data = df[['userId', 'movieId', 'rating', 'title']]\n",
        "data.columns = ['userID', 'itemID', 'act', 'item_label']\n",
        "data['act']= 1 # to implicit, watch or not\n",
        "data"
      ],
      "metadata": {
        "colab": {
          "base_uri": "https://localhost:8080/",
          "height": 552
        },
        "id": "oP4TQGuuZw4k",
        "outputId": "2043dd50-c85e-43ae-89a4-924b84f0352e"
      },
      "execution_count": null,
      "outputs": [
        {
          "output_type": "stream",
          "name": "stderr",
          "text": [
            "/usr/local/lib/python3.7/dist-packages/ipykernel_launcher.py:3: SettingWithCopyWarning: \n",
            "A value is trying to be set on a copy of a slice from a DataFrame.\n",
            "Try using .loc[row_indexer,col_indexer] = value instead\n",
            "\n",
            "See the caveats in the documentation: https://pandas.pydata.org/pandas-docs/stable/user_guide/indexing.html#returning-a-view-versus-a-copy\n",
            "  This is separate from the ipykernel package so we can avoid doing imports until\n"
          ]
        },
        {
          "output_type": "execute_result",
          "data": {
            "text/plain": [
              "       userID  itemID  act                                         item_label\n",
              "0           1    1210    1  Star Wars: Episode VI - Return of the Jedi (1983)\n",
              "1           7    1210    1  Star Wars: Episode VI - Return of the Jedi (1983)\n",
              "2          11    1210    1  Star Wars: Episode VI - Return of the Jedi (1983)\n",
              "3          15    1210    1  Star Wars: Episode VI - Return of the Jedi (1983)\n",
              "4          17    1210    1  Star Wars: Episode VI - Return of the Jedi (1983)\n",
              "...       ...     ...  ...                                                ...\n",
              "47313     599  176419    1                                     Mother! (2017)\n",
              "47314     567  117877    1         The Rabbi's Cat (Le chat du rabbin) (2011)\n",
              "47315     594    7023    1               Wedding Banquet, The (Xi yan) (1993)\n",
              "47316     606    6107    1  Night of the Shooting Stars (Notte di San Lore...\n",
              "47317     606    6516    1                                   Anastasia (1956)\n",
              "\n",
              "[47318 rows x 4 columns]"
            ],
            "text/html": [
              "\n",
              "  <div id=\"df-dbdc9e3f-e7c5-4951-b467-d8c81f43887f\">\n",
              "    <div class=\"colab-df-container\">\n",
              "      <div>\n",
              "<style scoped>\n",
              "    .dataframe tbody tr th:only-of-type {\n",
              "        vertical-align: middle;\n",
              "    }\n",
              "\n",
              "    .dataframe tbody tr th {\n",
              "        vertical-align: top;\n",
              "    }\n",
              "\n",
              "    .dataframe thead th {\n",
              "        text-align: right;\n",
              "    }\n",
              "</style>\n",
              "<table border=\"1\" class=\"dataframe\">\n",
              "  <thead>\n",
              "    <tr style=\"text-align: right;\">\n",
              "      <th></th>\n",
              "      <th>userID</th>\n",
              "      <th>itemID</th>\n",
              "      <th>act</th>\n",
              "      <th>item_label</th>\n",
              "    </tr>\n",
              "  </thead>\n",
              "  <tbody>\n",
              "    <tr>\n",
              "      <th>0</th>\n",
              "      <td>1</td>\n",
              "      <td>1210</td>\n",
              "      <td>1</td>\n",
              "      <td>Star Wars: Episode VI - Return of the Jedi (1983)</td>\n",
              "    </tr>\n",
              "    <tr>\n",
              "      <th>1</th>\n",
              "      <td>7</td>\n",
              "      <td>1210</td>\n",
              "      <td>1</td>\n",
              "      <td>Star Wars: Episode VI - Return of the Jedi (1983)</td>\n",
              "    </tr>\n",
              "    <tr>\n",
              "      <th>2</th>\n",
              "      <td>11</td>\n",
              "      <td>1210</td>\n",
              "      <td>1</td>\n",
              "      <td>Star Wars: Episode VI - Return of the Jedi (1983)</td>\n",
              "    </tr>\n",
              "    <tr>\n",
              "      <th>3</th>\n",
              "      <td>15</td>\n",
              "      <td>1210</td>\n",
              "      <td>1</td>\n",
              "      <td>Star Wars: Episode VI - Return of the Jedi (1983)</td>\n",
              "    </tr>\n",
              "    <tr>\n",
              "      <th>4</th>\n",
              "      <td>17</td>\n",
              "      <td>1210</td>\n",
              "      <td>1</td>\n",
              "      <td>Star Wars: Episode VI - Return of the Jedi (1983)</td>\n",
              "    </tr>\n",
              "    <tr>\n",
              "      <th>...</th>\n",
              "      <td>...</td>\n",
              "      <td>...</td>\n",
              "      <td>...</td>\n",
              "      <td>...</td>\n",
              "    </tr>\n",
              "    <tr>\n",
              "      <th>47313</th>\n",
              "      <td>599</td>\n",
              "      <td>176419</td>\n",
              "      <td>1</td>\n",
              "      <td>Mother! (2017)</td>\n",
              "    </tr>\n",
              "    <tr>\n",
              "      <th>47314</th>\n",
              "      <td>567</td>\n",
              "      <td>117877</td>\n",
              "      <td>1</td>\n",
              "      <td>The Rabbi's Cat (Le chat du rabbin) (2011)</td>\n",
              "    </tr>\n",
              "    <tr>\n",
              "      <th>47315</th>\n",
              "      <td>594</td>\n",
              "      <td>7023</td>\n",
              "      <td>1</td>\n",
              "      <td>Wedding Banquet, The (Xi yan) (1993)</td>\n",
              "    </tr>\n",
              "    <tr>\n",
              "      <th>47316</th>\n",
              "      <td>606</td>\n",
              "      <td>6107</td>\n",
              "      <td>1</td>\n",
              "      <td>Night of the Shooting Stars (Notte di San Lore...</td>\n",
              "    </tr>\n",
              "    <tr>\n",
              "      <th>47317</th>\n",
              "      <td>606</td>\n",
              "      <td>6516</td>\n",
              "      <td>1</td>\n",
              "      <td>Anastasia (1956)</td>\n",
              "    </tr>\n",
              "  </tbody>\n",
              "</table>\n",
              "<p>47318 rows × 4 columns</p>\n",
              "</div>\n",
              "      <button class=\"colab-df-convert\" onclick=\"convertToInteractive('df-dbdc9e3f-e7c5-4951-b467-d8c81f43887f')\"\n",
              "              title=\"Convert this dataframe to an interactive table.\"\n",
              "              style=\"display:none;\">\n",
              "        \n",
              "  <svg xmlns=\"http://www.w3.org/2000/svg\" height=\"24px\"viewBox=\"0 0 24 24\"\n",
              "       width=\"24px\">\n",
              "    <path d=\"M0 0h24v24H0V0z\" fill=\"none\"/>\n",
              "    <path d=\"M18.56 5.44l.94 2.06.94-2.06 2.06-.94-2.06-.94-.94-2.06-.94 2.06-2.06.94zm-11 1L8.5 8.5l.94-2.06 2.06-.94-2.06-.94L8.5 2.5l-.94 2.06-2.06.94zm10 10l.94 2.06.94-2.06 2.06-.94-2.06-.94-.94-2.06-.94 2.06-2.06.94z\"/><path d=\"M17.41 7.96l-1.37-1.37c-.4-.4-.92-.59-1.43-.59-.52 0-1.04.2-1.43.59L10.3 9.45l-7.72 7.72c-.78.78-.78 2.05 0 2.83L4 21.41c.39.39.9.59 1.41.59.51 0 1.02-.2 1.41-.59l7.78-7.78 2.81-2.81c.8-.78.8-2.07 0-2.86zM5.41 20L4 18.59l7.72-7.72 1.47 1.35L5.41 20z\"/>\n",
              "  </svg>\n",
              "      </button>\n",
              "      \n",
              "  <style>\n",
              "    .colab-df-container {\n",
              "      display:flex;\n",
              "      flex-wrap:wrap;\n",
              "      gap: 12px;\n",
              "    }\n",
              "\n",
              "    .colab-df-convert {\n",
              "      background-color: #E8F0FE;\n",
              "      border: none;\n",
              "      border-radius: 50%;\n",
              "      cursor: pointer;\n",
              "      display: none;\n",
              "      fill: #1967D2;\n",
              "      height: 32px;\n",
              "      padding: 0 0 0 0;\n",
              "      width: 32px;\n",
              "    }\n",
              "\n",
              "    .colab-df-convert:hover {\n",
              "      background-color: #E2EBFA;\n",
              "      box-shadow: 0px 1px 2px rgba(60, 64, 67, 0.3), 0px 1px 3px 1px rgba(60, 64, 67, 0.15);\n",
              "      fill: #174EA6;\n",
              "    }\n",
              "\n",
              "    [theme=dark] .colab-df-convert {\n",
              "      background-color: #3B4455;\n",
              "      fill: #D2E3FC;\n",
              "    }\n",
              "\n",
              "    [theme=dark] .colab-df-convert:hover {\n",
              "      background-color: #434B5C;\n",
              "      box-shadow: 0px 1px 3px 1px rgba(0, 0, 0, 0.15);\n",
              "      filter: drop-shadow(0px 1px 2px rgba(0, 0, 0, 0.3));\n",
              "      fill: #FFFFFF;\n",
              "    }\n",
              "  </style>\n",
              "\n",
              "      <script>\n",
              "        const buttonEl =\n",
              "          document.querySelector('#df-dbdc9e3f-e7c5-4951-b467-d8c81f43887f button.colab-df-convert');\n",
              "        buttonEl.style.display =\n",
              "          google.colab.kernel.accessAllowed ? 'block' : 'none';\n",
              "\n",
              "        async function convertToInteractive(key) {\n",
              "          const element = document.querySelector('#df-dbdc9e3f-e7c5-4951-b467-d8c81f43887f');\n",
              "          const dataTable =\n",
              "            await google.colab.kernel.invokeFunction('convertToInteractive',\n",
              "                                                     [key], {});\n",
              "          if (!dataTable) return;\n",
              "\n",
              "          const docLinkHtml = 'Like what you see? Visit the ' +\n",
              "            '<a target=\"_blank\" href=https://colab.research.google.com/notebooks/data_table.ipynb>data table notebook</a>'\n",
              "            + ' to learn more about interactive tables.';\n",
              "          element.innerHTML = '';\n",
              "          dataTable['output_type'] = 'display_data';\n",
              "          await google.colab.output.renderOutput(dataTable, element);\n",
              "          const docLink = document.createElement('div');\n",
              "          docLink.innerHTML = docLinkHtml;\n",
              "          element.appendChild(docLink);\n",
              "        }\n",
              "      </script>\n",
              "    </div>\n",
              "  </div>\n",
              "  "
            ]
          },
          "metadata": {},
          "execution_count": 140
        }
      ]
    },
    {
      "cell_type": "code",
      "source": [
        "# tag_pool\n",
        "tag_pool = df.columns[TAG_COL:-1]\n",
        "tag_pool"
      ],
      "metadata": {
        "colab": {
          "base_uri": "https://localhost:8080/"
        },
        "id": "6_Z2LS5LaLAC",
        "outputId": "831db850-fd07-412e-982a-bc9643ffad7b"
      },
      "execution_count": null,
      "outputs": [
        {
          "output_type": "execute_result",
          "data": {
            "text/plain": [
              "Index(['tag_0', 'tag_1', 'tag_2', 'tag_3', 'tag_4', 'tag_5', 'tag_6', 'tag_7',\n",
              "       'tag_8', 'tag_9',\n",
              "       ...\n",
              "       'tag_290', 'tag_291', 'tag_292', 'tag_293', 'tag_294', 'tag_295',\n",
              "       'tag_296', 'tag_297', 'tag_298', 'tag_299'],\n",
              "      dtype='object', length=300)"
            ]
          },
          "metadata": {},
          "execution_count": 127
        }
      ]
    },
    {
      "cell_type": "code",
      "source": [
        "dataset = Dataset()\n",
        "dataset.fit(users = data['userID'],\n",
        "            items = data['itemID'],\n",
        "            item_features = tag_pool)"
      ],
      "metadata": {
        "id": "nW3bz35dZw8X"
      },
      "execution_count": null,
      "outputs": []
    },
    {
      "cell_type": "code",
      "source": [
        "\"\"\"\n",
        "Build a item features matrix out of an iterable of the form (item id, [list of feature names]) or (item id, {feature name: feature weight}).\n",
        "\n",
        "Parameters\n",
        "data (iterable of the form) – (item id, [list of feature names]) or \n",
        "(item id, {feature name: feature weight}). Item and feature ids will be translated to internal indices constructed during the fit call.\n",
        "\n",
        "normalize (bool, optional) – If true, will ensure that feature weights sum to 1 in every row.\n",
        "\n",
        "Returns\n",
        "feature matrix – Matrix of item features.\n",
        "\n",
        "Return type\n",
        "CSR matrix (num items, num features)\n",
        "\n",
        "\"\"\"\n",
        "\n",
        "feature_weight = []\n",
        "for i in range(df.shape[0]):\n",
        "  feature_weight.append(df.iloc[i, TAG_COL:-1].to_dict())\n",
        "\n",
        "item_features = dataset.build_item_features(\n",
        "    (x,y) for x,y in zip(data.itemID, feature_weight)\n",
        ")\n",
        "\n",
        "del feature_weight # for memory "
      ],
      "metadata": {
        "id": "dKR5YE0NbNwk"
      },
      "execution_count": null,
      "outputs": []
    },
    {
      "cell_type": "code",
      "source": [
        "interactions, weights = dataset.build_interactions(data.iloc[:,:3].values)\n",
        "train_interactions, test_interactions = cross_validation.random_train_test_split(\n",
        "    interactions,\n",
        "    test_percentage = TEST_PERCENTAGE,\n",
        "    random_state = np.random.RandomState(SEED)\n",
        ")"
      ],
      "metadata": {
        "id": "414d8RP1ZxD7"
      },
      "execution_count": null,
      "outputs": []
    },
    {
      "cell_type": "markdown",
      "source": [
        "## Training"
      ],
      "metadata": {
        "id": "QVsIgZmwvX_X"
      }
    },
    {
      "cell_type": "code",
      "source": [
        "model = LightFM(loss = 'warp', no_components = NO_COMPONENTS,\n",
        "                learning_rate = LEARNING_RATE,\n",
        "                item_alpha = ITEM_ALPHA, \n",
        "                user_alpha = USER_ALPHA,\n",
        "                random_state = np.random.RandomState(SEED)\n",
        "                )"
      ],
      "metadata": {
        "id": "1XuchqCldwCn"
      },
      "execution_count": null,
      "outputs": []
    },
    {
      "cell_type": "code",
      "source": [
        "model.fit(interactions = train_interactions,\n",
        "          item_features = item_features,\n",
        "          epochs = NO_EPOCHS)"
      ],
      "metadata": {
        "colab": {
          "base_uri": "https://localhost:8080/"
        },
        "id": "j5oakTpud92e",
        "outputId": "ae6177d9-6417-4012-a3f1-08464e510c36"
      },
      "execution_count": null,
      "outputs": [
        {
          "output_type": "execute_result",
          "data": {
            "text/plain": [
              "<lightfm.lightfm.LightFM at 0x7fdc4183eb90>"
            ]
          },
          "metadata": {},
          "execution_count": 136
        }
      ]
    },
    {
      "cell_type": "code",
      "source": [
        "train_precision = lightfm_prec_at_k(model,\n",
        "                                  test_interactions = train_interactions,\n",
        "                                  k = K,\n",
        "                                  item_features = item_features,\n",
        "                                  num_threads= NO_THREADS\n",
        "                                  ).mean()\n",
        "test_precision = lightfm_prec_at_k(model, \n",
        "                                   test_interactions = test_interactions,\n",
        "                                   train_interactions = train_interactions,\n",
        "                                   k = K,\n",
        "                                   item_features = item_features,\n",
        "                                   num_threads= NO_THREADS\n",
        "                                   ).mean()      \n",
        "\n",
        "train_auc = auc_score(model, \n",
        "                      test_interactions = train_interactions,\n",
        "                      item_features = item_features,\n",
        "                      num_threads= NO_THREADS\n",
        "                      ).mean()   \n",
        "test_auc = auc_score(model, \n",
        "                      test_interactions = test_interactions,\n",
        "                      train_interactions = train_interactions,\n",
        "                      item_features = item_features,\n",
        "                      num_threads= NO_THREADS\n",
        "                      ).mean()  \n",
        "\n",
        "print('Precision: train %.2f, test %.2f.' % (train_precision, test_precision))\n",
        "print('AUC: train %.2f, test %.2f.' % (train_auc, test_auc))                       "
      ],
      "metadata": {
        "colab": {
          "base_uri": "https://localhost:8080/"
        },
        "id": "NxCoG9YeeGvh",
        "outputId": "6cfd8a4d-f71a-4ad4-e756-350d03eeecd6"
      },
      "execution_count": null,
      "outputs": [
        {
          "output_type": "stream",
          "name": "stdout",
          "text": [
            "Precision: train 0.37, test 0.17.\n",
            "AUC: train 0.88, test 0.83.\n"
          ]
        }
      ]
    },
    {
      "cell_type": "markdown",
      "source": [
        "## Recommendation"
      ],
      "metadata": {
        "id": "JY5x_4FPh9fZ"
      }
    },
    {
      "cell_type": "code",
      "source": [
        "uid_map, uf_map, iid_map, if_map = dataset.mapping()\n",
        "\n",
        "assert (len(uid_map), len(iid_map)) == train_interactions.shape"
      ],
      "metadata": {
        "id": "Zd4AzgY4h_oI"
      },
      "execution_count": null,
      "outputs": []
    },
    {
      "cell_type": "code",
      "source": [
        "len(uid_map) # real userId -> internal id (sparse matrix column)\n",
        "# Number of Users"
      ],
      "metadata": {
        "colab": {
          "base_uri": "https://localhost:8080/"
        },
        "id": "qsRKrtJ2iKKI",
        "outputId": "3bfddcb2-3a92-4867-d219-11b88fdb3b08"
      },
      "execution_count": null,
      "outputs": [
        {
          "output_type": "execute_result",
          "data": {
            "text/plain": [
              "610"
            ]
          },
          "metadata": {},
          "execution_count": 90
        }
      ]
    },
    {
      "cell_type": "code",
      "source": [
        "uid_map # real itemID -> internal id (sparse matrix column)"
      ],
      "metadata": {
        "id": "PSavWo4Uq5gI"
      },
      "execution_count": null,
      "outputs": []
    },
    {
      "cell_type": "code",
      "source": [
        "len(iid_map) # Number of Items"
      ],
      "metadata": {
        "colab": {
          "base_uri": "https://localhost:8080/"
        },
        "id": "VCR_34zuikit",
        "outputId": "6acf0c27-eb0c-4fdb-b0c5-d9379ca7835c"
      },
      "execution_count": null,
      "outputs": [
        {
          "output_type": "execute_result",
          "data": {
            "text/plain": [
              "1505"
            ]
          },
          "metadata": {},
          "execution_count": 91
        }
      ]
    },
    {
      "cell_type": "code",
      "source": [
        "len(if_map) # Number of Movies + features (tag 300 Dim)"
      ],
      "metadata": {
        "colab": {
          "base_uri": "https://localhost:8080/"
        },
        "id": "5nhd8KOFiev_",
        "outputId": "30dd4e25-e75b-423c-bde2-cbba0c701543"
      },
      "execution_count": null,
      "outputs": [
        {
          "output_type": "execute_result",
          "data": {
            "text/plain": [
              "1805"
            ]
          },
          "metadata": {},
          "execution_count": 92
        }
      ]
    },
    {
      "cell_type": "code",
      "source": [
        "# internal indices as DataFrame indcies\n",
        "items = pd.merge(data['itemID'], movies_df[['itemID', 'item_label']],\n",
        "                  how = 'inner', on = 'itemID')\n",
        "\n",
        "items['iid'] = items['itemID'].apply(lambda x : iid_map[x])\n",
        "items = items.set_index('iid').drop_duplicates()\n"
      ],
      "metadata": {
        "id": "8X34LaiWqY2X"
      },
      "execution_count": null,
      "outputs": []
    },
    {
      "cell_type": "code",
      "source": [
        "items.head()"
      ],
      "metadata": {
        "colab": {
          "base_uri": "https://localhost:8080/",
          "height": 237
        },
        "id": "C3DL091CqhnA",
        "outputId": "822876b1-ed5d-4124-817c-4a408f4ce9e2"
      },
      "execution_count": null,
      "outputs": [
        {
          "output_type": "execute_result",
          "data": {
            "text/plain": [
              "     itemID                                         item_label\n",
              "iid                                                           \n",
              "0      1210  Star Wars: Episode VI - Return of the Jedi (1983)\n",
              "1      2628   Star Wars: Episode I - The Phantom Menace (1999)\n",
              "2      3578                                   Gladiator (2000)\n",
              "3       101                               Bottle Rocket (1996)\n",
              "4       235                                     Ed Wood (1994)"
            ],
            "text/html": [
              "\n",
              "  <div id=\"df-d1d88312-0acb-4dfe-bc72-d89dd85ce044\">\n",
              "    <div class=\"colab-df-container\">\n",
              "      <div>\n",
              "<style scoped>\n",
              "    .dataframe tbody tr th:only-of-type {\n",
              "        vertical-align: middle;\n",
              "    }\n",
              "\n",
              "    .dataframe tbody tr th {\n",
              "        vertical-align: top;\n",
              "    }\n",
              "\n",
              "    .dataframe thead th {\n",
              "        text-align: right;\n",
              "    }\n",
              "</style>\n",
              "<table border=\"1\" class=\"dataframe\">\n",
              "  <thead>\n",
              "    <tr style=\"text-align: right;\">\n",
              "      <th></th>\n",
              "      <th>itemID</th>\n",
              "      <th>item_label</th>\n",
              "    </tr>\n",
              "    <tr>\n",
              "      <th>iid</th>\n",
              "      <th></th>\n",
              "      <th></th>\n",
              "    </tr>\n",
              "  </thead>\n",
              "  <tbody>\n",
              "    <tr>\n",
              "      <th>0</th>\n",
              "      <td>1210</td>\n",
              "      <td>Star Wars: Episode VI - Return of the Jedi (1983)</td>\n",
              "    </tr>\n",
              "    <tr>\n",
              "      <th>1</th>\n",
              "      <td>2628</td>\n",
              "      <td>Star Wars: Episode I - The Phantom Menace (1999)</td>\n",
              "    </tr>\n",
              "    <tr>\n",
              "      <th>2</th>\n",
              "      <td>3578</td>\n",
              "      <td>Gladiator (2000)</td>\n",
              "    </tr>\n",
              "    <tr>\n",
              "      <th>3</th>\n",
              "      <td>101</td>\n",
              "      <td>Bottle Rocket (1996)</td>\n",
              "    </tr>\n",
              "    <tr>\n",
              "      <th>4</th>\n",
              "      <td>235</td>\n",
              "      <td>Ed Wood (1994)</td>\n",
              "    </tr>\n",
              "  </tbody>\n",
              "</table>\n",
              "</div>\n",
              "      <button class=\"colab-df-convert\" onclick=\"convertToInteractive('df-d1d88312-0acb-4dfe-bc72-d89dd85ce044')\"\n",
              "              title=\"Convert this dataframe to an interactive table.\"\n",
              "              style=\"display:none;\">\n",
              "        \n",
              "  <svg xmlns=\"http://www.w3.org/2000/svg\" height=\"24px\"viewBox=\"0 0 24 24\"\n",
              "       width=\"24px\">\n",
              "    <path d=\"M0 0h24v24H0V0z\" fill=\"none\"/>\n",
              "    <path d=\"M18.56 5.44l.94 2.06.94-2.06 2.06-.94-2.06-.94-.94-2.06-.94 2.06-2.06.94zm-11 1L8.5 8.5l.94-2.06 2.06-.94-2.06-.94L8.5 2.5l-.94 2.06-2.06.94zm10 10l.94 2.06.94-2.06 2.06-.94-2.06-.94-.94-2.06-.94 2.06-2.06.94z\"/><path d=\"M17.41 7.96l-1.37-1.37c-.4-.4-.92-.59-1.43-.59-.52 0-1.04.2-1.43.59L10.3 9.45l-7.72 7.72c-.78.78-.78 2.05 0 2.83L4 21.41c.39.39.9.59 1.41.59.51 0 1.02-.2 1.41-.59l7.78-7.78 2.81-2.81c.8-.78.8-2.07 0-2.86zM5.41 20L4 18.59l7.72-7.72 1.47 1.35L5.41 20z\"/>\n",
              "  </svg>\n",
              "      </button>\n",
              "      \n",
              "  <style>\n",
              "    .colab-df-container {\n",
              "      display:flex;\n",
              "      flex-wrap:wrap;\n",
              "      gap: 12px;\n",
              "    }\n",
              "\n",
              "    .colab-df-convert {\n",
              "      background-color: #E8F0FE;\n",
              "      border: none;\n",
              "      border-radius: 50%;\n",
              "      cursor: pointer;\n",
              "      display: none;\n",
              "      fill: #1967D2;\n",
              "      height: 32px;\n",
              "      padding: 0 0 0 0;\n",
              "      width: 32px;\n",
              "    }\n",
              "\n",
              "    .colab-df-convert:hover {\n",
              "      background-color: #E2EBFA;\n",
              "      box-shadow: 0px 1px 2px rgba(60, 64, 67, 0.3), 0px 1px 3px 1px rgba(60, 64, 67, 0.15);\n",
              "      fill: #174EA6;\n",
              "    }\n",
              "\n",
              "    [theme=dark] .colab-df-convert {\n",
              "      background-color: #3B4455;\n",
              "      fill: #D2E3FC;\n",
              "    }\n",
              "\n",
              "    [theme=dark] .colab-df-convert:hover {\n",
              "      background-color: #434B5C;\n",
              "      box-shadow: 0px 1px 3px 1px rgba(0, 0, 0, 0.15);\n",
              "      filter: drop-shadow(0px 1px 2px rgba(0, 0, 0, 0.3));\n",
              "      fill: #FFFFFF;\n",
              "    }\n",
              "  </style>\n",
              "\n",
              "      <script>\n",
              "        const buttonEl =\n",
              "          document.querySelector('#df-d1d88312-0acb-4dfe-bc72-d89dd85ce044 button.colab-df-convert');\n",
              "        buttonEl.style.display =\n",
              "          google.colab.kernel.accessAllowed ? 'block' : 'none';\n",
              "\n",
              "        async function convertToInteractive(key) {\n",
              "          const element = document.querySelector('#df-d1d88312-0acb-4dfe-bc72-d89dd85ce044');\n",
              "          const dataTable =\n",
              "            await google.colab.kernel.invokeFunction('convertToInteractive',\n",
              "                                                     [key], {});\n",
              "          if (!dataTable) return;\n",
              "\n",
              "          const docLinkHtml = 'Like what you see? Visit the ' +\n",
              "            '<a target=\"_blank\" href=https://colab.research.google.com/notebooks/data_table.ipynb>data table notebook</a>'\n",
              "            + ' to learn more about interactive tables.';\n",
              "          element.innerHTML = '';\n",
              "          dataTable['output_type'] = 'display_data';\n",
              "          await google.colab.output.renderOutput(dataTable, element);\n",
              "          const docLink = document.createElement('div');\n",
              "          docLink.innerHTML = docLinkHtml;\n",
              "          element.appendChild(docLink);\n",
              "        }\n",
              "      </script>\n",
              "    </div>\n",
              "  </div>\n",
              "  "
            ]
          },
          "metadata": {},
          "execution_count": 163
        }
      ]
    },
    {
      "cell_type": "code",
      "source": [
        "def sample_recommendation(model, \n",
        "                          interactions,\n",
        "                          data, \n",
        "                          items,\n",
        "                          dataset,\n",
        "                          real_user_ids):\n",
        "  \"\"\" \n",
        "    Parameters\n",
        "      model -- fitted LightFM Instance\n",
        "      interactions -- (#items , #user) sparse matrix\n",
        "      data -- DataFrame ['userID', 'movieID', 'rating', 'item_label']\n",
        "      items -- item Info including ['item_label'] with index of its id\n",
        "      dataset -- lightfm.data.Dataset Instance\n",
        "      real_user_ids -- list of real_user_ids to recommend\n",
        "  \"\"\"\n",
        "  n_users, n_items = interactions.shape\n",
        "  uid_map, x, iid_map, y = dataset.mapping() \n",
        "\n",
        "  for real_user_id in real_user_ids:\n",
        "      user_id = uid_map[real_user_id]\n",
        "\n",
        "      known_positives = items['item_label'][interactions.tocsr()[user_id].indices]\n",
        "\n",
        "      scores = model.predict(user_id, np.arange(n_items))\n",
        "      top_items = items['item_label'][np.argsort(-scores)]\n",
        "      \n",
        "      print(\"User %s\" % real_user_id)\n",
        "      print(\"     Known positives:\")\n",
        "      \n",
        "      for x in known_positives:\n",
        "          print(\"        %s\" % x)\n",
        "\n",
        "      print(\"     Recommended:\")\n",
        "      \n",
        "      for x in top_items[:3]:\n",
        "          print(\"        %s\" % x)\n"
      ],
      "metadata": {
        "id": "2gaQfF0NZxTf"
      },
      "execution_count": null,
      "outputs": []
    },
    {
      "cell_type": "code",
      "source": [
        "user_ids = [609]\n",
        "\n",
        "sample_recommendation(model = model,\n",
        "                      interactions = interactions, \n",
        "                      data = data,\n",
        "                      items = items,\n",
        "                      dataset = dataset,\n",
        "                      real_user_ids = user_ids )"
      ],
      "metadata": {
        "colab": {
          "base_uri": "https://localhost:8080/"
        },
        "id": "rY0wgzuahWYe",
        "outputId": "7cafd273-938e-47cf-a88f-34da8c40d20b"
      },
      "execution_count": null,
      "outputs": [
        {
          "output_type": "stream",
          "name": "stdout",
          "text": [
            "User 609\n",
            "     Known positives:\n",
            "        Forrest Gump (1994)\n",
            "        Fugitive, The (1993)\n",
            "        Braveheart (1995)\n",
            "        Batman (1989)\n",
            "        Jurassic Park (1993)\n",
            "        Dances with Wolves (1990)\n",
            "        Toy Story (1995)\n",
            "        Pulp Fiction (1994)\n",
            "        Shawshank Redemption, The (1994)\n",
            "        Twelfth Night (1996)\n",
            "        Apollo 13 (1995)\n",
            "        Terminator 2: Judgment Day (1991)\n",
            "        Star Trek: Generations (1994)\n",
            "        Crimson Tide (1995)\n",
            "        While You Were Sleeping (1995)\n",
            "        Net, The (1995)\n",
            "        Natural Born Killers (1994)\n",
            "        Firm, The (1993)\n",
            "        William Shakespeare's Romeo + Juliet (1996)\n",
            "        Anne Frank Remembered (1995)\n",
            "     Recommended:\n",
            "        Clerks (1994)\n",
            "        Room with a View, A (1986)\n",
            "        Mrs. Doubtfire (1993)\n"
          ]
        }
      ]
    },
    {
      "cell_type": "code",
      "source": [
        "data.groupby('userID').count()"
      ],
      "metadata": {
        "colab": {
          "base_uri": "https://localhost:8080/",
          "height": 455
        },
        "id": "mbI7gJNPZxlC",
        "outputId": "5c688920-9f1f-4fbb-fbd6-f61d917a5025"
      },
      "execution_count": null,
      "outputs": [
        {
          "output_type": "execute_result",
          "data": {
            "text/plain": [
              "        itemID  act  item_label\n",
              "userID                         \n",
              "1          112  112         112\n",
              "2           20   20          20\n",
              "3           14   14          14\n",
              "4          119  119         119\n",
              "5           39   39          39\n",
              "...        ...  ...         ...\n",
              "606        434  434         434\n",
              "607        102  102         102\n",
              "608        336  336         336\n",
              "609         20   20          20\n",
              "610        354  354         354\n",
              "\n",
              "[610 rows x 3 columns]"
            ],
            "text/html": [
              "\n",
              "  <div id=\"df-7aca2094-6716-4f5d-96f4-2bfeb0685a89\">\n",
              "    <div class=\"colab-df-container\">\n",
              "      <div>\n",
              "<style scoped>\n",
              "    .dataframe tbody tr th:only-of-type {\n",
              "        vertical-align: middle;\n",
              "    }\n",
              "\n",
              "    .dataframe tbody tr th {\n",
              "        vertical-align: top;\n",
              "    }\n",
              "\n",
              "    .dataframe thead th {\n",
              "        text-align: right;\n",
              "    }\n",
              "</style>\n",
              "<table border=\"1\" class=\"dataframe\">\n",
              "  <thead>\n",
              "    <tr style=\"text-align: right;\">\n",
              "      <th></th>\n",
              "      <th>itemID</th>\n",
              "      <th>act</th>\n",
              "      <th>item_label</th>\n",
              "    </tr>\n",
              "    <tr>\n",
              "      <th>userID</th>\n",
              "      <th></th>\n",
              "      <th></th>\n",
              "      <th></th>\n",
              "    </tr>\n",
              "  </thead>\n",
              "  <tbody>\n",
              "    <tr>\n",
              "      <th>1</th>\n",
              "      <td>112</td>\n",
              "      <td>112</td>\n",
              "      <td>112</td>\n",
              "    </tr>\n",
              "    <tr>\n",
              "      <th>2</th>\n",
              "      <td>20</td>\n",
              "      <td>20</td>\n",
              "      <td>20</td>\n",
              "    </tr>\n",
              "    <tr>\n",
              "      <th>3</th>\n",
              "      <td>14</td>\n",
              "      <td>14</td>\n",
              "      <td>14</td>\n",
              "    </tr>\n",
              "    <tr>\n",
              "      <th>4</th>\n",
              "      <td>119</td>\n",
              "      <td>119</td>\n",
              "      <td>119</td>\n",
              "    </tr>\n",
              "    <tr>\n",
              "      <th>5</th>\n",
              "      <td>39</td>\n",
              "      <td>39</td>\n",
              "      <td>39</td>\n",
              "    </tr>\n",
              "    <tr>\n",
              "      <th>...</th>\n",
              "      <td>...</td>\n",
              "      <td>...</td>\n",
              "      <td>...</td>\n",
              "    </tr>\n",
              "    <tr>\n",
              "      <th>606</th>\n",
              "      <td>434</td>\n",
              "      <td>434</td>\n",
              "      <td>434</td>\n",
              "    </tr>\n",
              "    <tr>\n",
              "      <th>607</th>\n",
              "      <td>102</td>\n",
              "      <td>102</td>\n",
              "      <td>102</td>\n",
              "    </tr>\n",
              "    <tr>\n",
              "      <th>608</th>\n",
              "      <td>336</td>\n",
              "      <td>336</td>\n",
              "      <td>336</td>\n",
              "    </tr>\n",
              "    <tr>\n",
              "      <th>609</th>\n",
              "      <td>20</td>\n",
              "      <td>20</td>\n",
              "      <td>20</td>\n",
              "    </tr>\n",
              "    <tr>\n",
              "      <th>610</th>\n",
              "      <td>354</td>\n",
              "      <td>354</td>\n",
              "      <td>354</td>\n",
              "    </tr>\n",
              "  </tbody>\n",
              "</table>\n",
              "<p>610 rows × 3 columns</p>\n",
              "</div>\n",
              "      <button class=\"colab-df-convert\" onclick=\"convertToInteractive('df-7aca2094-6716-4f5d-96f4-2bfeb0685a89')\"\n",
              "              title=\"Convert this dataframe to an interactive table.\"\n",
              "              style=\"display:none;\">\n",
              "        \n",
              "  <svg xmlns=\"http://www.w3.org/2000/svg\" height=\"24px\"viewBox=\"0 0 24 24\"\n",
              "       width=\"24px\">\n",
              "    <path d=\"M0 0h24v24H0V0z\" fill=\"none\"/>\n",
              "    <path d=\"M18.56 5.44l.94 2.06.94-2.06 2.06-.94-2.06-.94-.94-2.06-.94 2.06-2.06.94zm-11 1L8.5 8.5l.94-2.06 2.06-.94-2.06-.94L8.5 2.5l-.94 2.06-2.06.94zm10 10l.94 2.06.94-2.06 2.06-.94-2.06-.94-.94-2.06-.94 2.06-2.06.94z\"/><path d=\"M17.41 7.96l-1.37-1.37c-.4-.4-.92-.59-1.43-.59-.52 0-1.04.2-1.43.59L10.3 9.45l-7.72 7.72c-.78.78-.78 2.05 0 2.83L4 21.41c.39.39.9.59 1.41.59.51 0 1.02-.2 1.41-.59l7.78-7.78 2.81-2.81c.8-.78.8-2.07 0-2.86zM5.41 20L4 18.59l7.72-7.72 1.47 1.35L5.41 20z\"/>\n",
              "  </svg>\n",
              "      </button>\n",
              "      \n",
              "  <style>\n",
              "    .colab-df-container {\n",
              "      display:flex;\n",
              "      flex-wrap:wrap;\n",
              "      gap: 12px;\n",
              "    }\n",
              "\n",
              "    .colab-df-convert {\n",
              "      background-color: #E8F0FE;\n",
              "      border: none;\n",
              "      border-radius: 50%;\n",
              "      cursor: pointer;\n",
              "      display: none;\n",
              "      fill: #1967D2;\n",
              "      height: 32px;\n",
              "      padding: 0 0 0 0;\n",
              "      width: 32px;\n",
              "    }\n",
              "\n",
              "    .colab-df-convert:hover {\n",
              "      background-color: #E2EBFA;\n",
              "      box-shadow: 0px 1px 2px rgba(60, 64, 67, 0.3), 0px 1px 3px 1px rgba(60, 64, 67, 0.15);\n",
              "      fill: #174EA6;\n",
              "    }\n",
              "\n",
              "    [theme=dark] .colab-df-convert {\n",
              "      background-color: #3B4455;\n",
              "      fill: #D2E3FC;\n",
              "    }\n",
              "\n",
              "    [theme=dark] .colab-df-convert:hover {\n",
              "      background-color: #434B5C;\n",
              "      box-shadow: 0px 1px 3px 1px rgba(0, 0, 0, 0.15);\n",
              "      filter: drop-shadow(0px 1px 2px rgba(0, 0, 0, 0.3));\n",
              "      fill: #FFFFFF;\n",
              "    }\n",
              "  </style>\n",
              "\n",
              "      <script>\n",
              "        const buttonEl =\n",
              "          document.querySelector('#df-7aca2094-6716-4f5d-96f4-2bfeb0685a89 button.colab-df-convert');\n",
              "        buttonEl.style.display =\n",
              "          google.colab.kernel.accessAllowed ? 'block' : 'none';\n",
              "\n",
              "        async function convertToInteractive(key) {\n",
              "          const element = document.querySelector('#df-7aca2094-6716-4f5d-96f4-2bfeb0685a89');\n",
              "          const dataTable =\n",
              "            await google.colab.kernel.invokeFunction('convertToInteractive',\n",
              "                                                     [key], {});\n",
              "          if (!dataTable) return;\n",
              "\n",
              "          const docLinkHtml = 'Like what you see? Visit the ' +\n",
              "            '<a target=\"_blank\" href=https://colab.research.google.com/notebooks/data_table.ipynb>data table notebook</a>'\n",
              "            + ' to learn more about interactive tables.';\n",
              "          element.innerHTML = '';\n",
              "          dataTable['output_type'] = 'display_data';\n",
              "          await google.colab.output.renderOutput(dataTable, element);\n",
              "          const docLink = document.createElement('div');\n",
              "          docLink.innerHTML = docLinkHtml;\n",
              "          element.appendChild(docLink);\n",
              "        }\n",
              "      </script>\n",
              "    </div>\n",
              "  </div>\n",
              "  "
            ]
          },
          "metadata": {},
          "execution_count": 176
        }
      ]
    },
    {
      "cell_type": "code",
      "source": [],
      "metadata": {
        "id": "sTZ6oHGPZxoh"
      },
      "execution_count": null,
      "outputs": []
    }
  ]
}